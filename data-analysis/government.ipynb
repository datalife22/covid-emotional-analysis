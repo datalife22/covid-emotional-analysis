{
 "cells": [
  {
   "cell_type": "code",
   "execution_count": 1,
   "metadata": {
    "pycharm": {
     "name": "#%%\n"
    }
   },
   "outputs": [],
   "source": [
    "import numpy as np\n",
    "import matplotlib.pyplot as plt\n",
    "import pandas as pd"
   ]
  },
  {
   "cell_type": "code",
   "execution_count": 2,
   "metadata": {
    "pycharm": {
     "name": "#%%\n"
    }
   },
   "outputs": [],
   "source": [
    "df = pd.read_excel('EN.xlsx')"
   ]
  },
  {
   "cell_type": "code",
   "execution_count": 3,
   "metadata": {
    "pycharm": {
     "name": "#%%\n"
    }
   },
   "outputs": [
    {
     "data": {
      "text/plain": "['#',\n 'At the beginning of the pandemic did you work or study?',\n 'Family',\n 'Friends',\n 'Pets',\n 'Roommates',\n \"People I didn't know\",\n 'Alone',\n 'How many people did you live with in that period?',\n 'Bored',\n 'Stressed',\n 'Free',\n 'Optimistic',\n 'Peaceful',\n 'Lonely',\n 'Disappointed',\n 'Frustrated',\n 'Threatened',\n 'Before covid',\n 'During covid',\n 'Bored.1',\n 'Stressed.1',\n 'Excited',\n 'Hopeful',\n 'Peaceful.1',\n 'Lonely.1',\n 'Vulnerable',\n 'Disappointed.1',\n 'Anxious',\n 'Mask mandate',\n 'Lockdown',\n 'Closing Workplace/University',\n 'Vaccination pass',\n 'Social distancing',\n 'Quarantine',\n 'Mask mandate.1',\n 'Lockdown.1',\n 'Closing Workplace/University.1',\n 'Vaccination pass.1',\n 'Social distancing.1',\n 'Quarantine.1',\n 'Proud',\n 'Optimistic.1',\n 'Indifferent',\n 'Vulnerable.1',\n 'Disappointed.2',\n 'Hostile',\n 'Threatened.1',\n 'Anxious.1',\n 'Free.1',\n 'No',\n 'Yes, in 2020',\n 'Yes, in 2021',\n 'Yes, in 2022',\n 'Stressed.2',\n 'Optimistic.2',\n 'Peaceful.2',\n 'Lonely.2',\n 'Vulnerable.2',\n 'Disappointed.3',\n 'Frustrated.1',\n 'Anxious.2',\n 'Threatened.2',\n '1 before COVID-19?',\n '2 before COVID-19?',\n '3 before COVID-19?',\n '4 before COVID-19?',\n '5 before COVID-19?',\n '6 before COVID-19?',\n '1 during COVID-19?',\n '2 during COVID-19?',\n '3 during COVID-19?',\n '4 during COVID-19?',\n '5 during COVID-19?',\n '6 during COVID-19?',\n 'Main Income',\n 'Bored.2',\n 'Stressed.3',\n 'Free.2',\n 'Proud.1',\n 'Optimistic.3',\n 'Lonely.3',\n 'Disappointed.4',\n 'Frustrated.2',\n 'Anxious.3',\n 'Did your studying situation changed during COVID-19?',\n 'Change in personal interests',\n 'Change in learning modes',\n 'Family / Friends / Advisors Influence',\n 'Low grades',\n 'Better Career Prospects',\n 'Economic Difficulties',\n 'Started working',\n 'Other / I prefer not to answer',\n 'How would you describe your job?',\n 'In your daily job, do you work directly with the public?',\n 'Free.3',\n 'Aggresive',\n 'Frustrated.3',\n 'Disappointed.5',\n 'Vulnerable.3',\n 'Lonely.4',\n 'Optimistic.4',\n 'enthusiastic',\n 'stressed',\n 'Did your professional situation change during COVID-19?',\n 'Why did your professional situation change?',\n 'Meeting a small group of friends (2-6 people)',\n 'Going to public places (cinemas, theaters, restaurants, gym)',\n 'Taking public transportation',\n 'Going to a crowded event outdoors',\n 'Meeting a small group of friends (2-6 people).1',\n 'Going to public places (cinemas, theaters, restaurants, gym).1',\n 'Taking public transportation.1',\n 'Going to a crowded event outdoors.1',\n 'Do you feel you have gone back to your “normality”?',\n 'What is your job sector?',\n 'What is your major?',\n 'What is your gender?',\n 'How old are you now?',\n 'Where did you grow up?',\n 'What is your ethnicity?',\n 'Which of these emotions do you associate with COVID-19?']"
     },
     "execution_count": 3,
     "metadata": {},
     "output_type": "execute_result"
    }
   ],
   "source": [
    "list(df)"
   ]
  },
  {
   "cell_type": "code",
   "execution_count": 4,
   "metadata": {
    "pycharm": {
     "name": "#%%\n"
    }
   },
   "outputs": [
    {
     "data": {
      "text/plain": "       # At the beginning of the pandemic did you work or study?  Family  \\\n0     US                                               Both       Family   \n1     US                                               Work          NaN   \n2     US                                               Work          NaN   \n3     US                                               Work          NaN   \n4     US                                               Work       Family   \n...   ..                                                ...          ...   \n2987  IT                                              Study       Family   \n2988  IT                                              Study       Family   \n2989  IT                                               Work       Family   \n2990  IT                                               Work       Family   \n2991  IT                                              Study       Family   \n\n     Friends  Pets  Roommates People I didn't know  Alone  \\\n0        NaN   NaN        NaN                  NaN    NaN   \n1        NaN   NaN  Roommates                  NaN    NaN   \n2        NaN  Pets        NaN                  NaN    NaN   \n3        NaN   NaN        NaN                  NaN  Alone   \n4        NaN   NaN        NaN                  NaN    NaN   \n...      ...   ...        ...                  ...    ...   \n2987     NaN   NaN        NaN                  NaN    NaN   \n2988     NaN   NaN        NaN                  NaN    NaN   \n2989     NaN   NaN        NaN                  NaN    NaN   \n2990     NaN   NaN        NaN                  NaN    NaN   \n2991     NaN   NaN        NaN                  NaN    NaN   \n\n      How many people did you live with in that period?  Bored  ...  \\\n0                                                   2.0  Bored  ...   \n1                                                   2.0    NaN  ...   \n2                                                   NaN  Bored  ...   \n3                                                   NaN    NaN  ...   \n4                                                   1.0    NaN  ...   \n...                                                 ...    ...  ...   \n2987                                                1.0    NaN  ...   \n2988                                                2.0    NaN  ...   \n2989                                                3.0    NaN  ...   \n2990                                                3.0    NaN  ...   \n2991                                                3.0    NaN  ...   \n\n     Taking public transportation.1 Going to a crowded event outdoors.1  \\\n0                               4.0                                 4.0   \n1                               5.0                                 5.0   \n2                               4.0                                 3.0   \n3                               5.0                                 5.0   \n4                               4.0                                 5.0   \n...                             ...                                 ...   \n2987                            2.0                                 4.0   \n2988                            5.0                                 5.0   \n2989                            1.0                                 5.0   \n2990                            3.0                                 5.0   \n2991                            3.0                                 5.0   \n\n     Do you feel you have gone back to your “normality”?  \\\n0                                                   4.0    \n1                                                   8.0    \n2                                                   5.0    \n3                                                   6.0    \n4                                                   8.0    \n...                                                 ...    \n2987                                                5.0    \n2988                                                9.0    \n2989                                                4.0    \n2990                                                9.0    \n2991                                                7.0    \n\n            What is your job sector?  \\\n0                                NaN   \n1             Information Technology   \n2              Food & Consumer Goods   \n3              Food & Consumer Goods   \n4             Information Technology   \n...                              ...   \n2987                             NaN   \n2988                             NaN   \n2989  Other / I prefer not to answer   \n2990          Information Technology   \n2991                             NaN   \n\n                           What is your major? What is your gender?  \\\n0                   Engineering and Technology               Female   \n1                                          NaN                 Male   \n2                                          NaN                 Male   \n3                                          NaN                 Male   \n4                                          NaN                 Male   \n...                                        ...                  ...   \n2987                     Architettura e design               Female   \n2988  Commercio, management, turismo e servizi                 Male   \n2989                                       NaN               Female   \n2990                                       NaN                 Male   \n2991                       Scienze umanistiche                 Male   \n\n     How old are you now?             Where did you grow up?  \\\n0                   24-30  I'm from somewhere else in the US   \n1                   30-40                 I come from abroad   \n2                   40-50            I'm from New York State   \n3                   30-40            I'm from New York State   \n4                   30-40  I'm from somewhere else in the US   \n...                   ...                                ...   \n2987                  NaN                       I am Italian   \n2988                  NaN                       I am Italian   \n2989                Other                       I am Italian   \n2990                  NaN                       I am Italian   \n2991                  NaN                 I come from abroad   \n\n     What is your ethnicity?  \\\n0                      Asian   \n1                      Asian   \n2                      White   \n3                      White   \n4                      White   \n...                      ...   \n2987                   White   \n2988                   White   \n2989                   White   \n2990                   White   \n2991                   White   \n\n     Which of these emotions do you associate with COVID-19?  \n0                                            Frustrated       \n1                                               Distant       \n2                                            Frustrated       \n3                                            Optimistic       \n4                                               Anxious       \n...                                                 ...       \n2987                                                NaN       \n2988                                                NaN       \n2989                                                NaN       \n2990                                                NaN       \n2991                                                NaN       \n\n[2992 rows x 123 columns]",
      "text/html": "<div>\n<style scoped>\n    .dataframe tbody tr th:only-of-type {\n        vertical-align: middle;\n    }\n\n    .dataframe tbody tr th {\n        vertical-align: top;\n    }\n\n    .dataframe thead th {\n        text-align: right;\n    }\n</style>\n<table border=\"1\" class=\"dataframe\">\n  <thead>\n    <tr style=\"text-align: right;\">\n      <th></th>\n      <th>#</th>\n      <th>At the beginning of the pandemic did you work or study?</th>\n      <th>Family</th>\n      <th>Friends</th>\n      <th>Pets</th>\n      <th>Roommates</th>\n      <th>People I didn't know</th>\n      <th>Alone</th>\n      <th>How many people did you live with in that period?</th>\n      <th>Bored</th>\n      <th>...</th>\n      <th>Taking public transportation.1</th>\n      <th>Going to a crowded event outdoors.1</th>\n      <th>Do you feel you have gone back to your “normality”?</th>\n      <th>What is your job sector?</th>\n      <th>What is your major?</th>\n      <th>What is your gender?</th>\n      <th>How old are you now?</th>\n      <th>Where did you grow up?</th>\n      <th>What is your ethnicity?</th>\n      <th>Which of these emotions do you associate with COVID-19?</th>\n    </tr>\n  </thead>\n  <tbody>\n    <tr>\n      <th>0</th>\n      <td>US</td>\n      <td>Both</td>\n      <td>Family</td>\n      <td>NaN</td>\n      <td>NaN</td>\n      <td>NaN</td>\n      <td>NaN</td>\n      <td>NaN</td>\n      <td>2.0</td>\n      <td>Bored</td>\n      <td>...</td>\n      <td>4.0</td>\n      <td>4.0</td>\n      <td>4.0</td>\n      <td>NaN</td>\n      <td>Engineering and Technology</td>\n      <td>Female</td>\n      <td>24-30</td>\n      <td>I'm from somewhere else in the US</td>\n      <td>Asian</td>\n      <td>Frustrated</td>\n    </tr>\n    <tr>\n      <th>1</th>\n      <td>US</td>\n      <td>Work</td>\n      <td>NaN</td>\n      <td>NaN</td>\n      <td>NaN</td>\n      <td>Roommates</td>\n      <td>NaN</td>\n      <td>NaN</td>\n      <td>2.0</td>\n      <td>NaN</td>\n      <td>...</td>\n      <td>5.0</td>\n      <td>5.0</td>\n      <td>8.0</td>\n      <td>Information Technology</td>\n      <td>NaN</td>\n      <td>Male</td>\n      <td>30-40</td>\n      <td>I come from abroad</td>\n      <td>Asian</td>\n      <td>Distant</td>\n    </tr>\n    <tr>\n      <th>2</th>\n      <td>US</td>\n      <td>Work</td>\n      <td>NaN</td>\n      <td>NaN</td>\n      <td>Pets</td>\n      <td>NaN</td>\n      <td>NaN</td>\n      <td>NaN</td>\n      <td>NaN</td>\n      <td>Bored</td>\n      <td>...</td>\n      <td>4.0</td>\n      <td>3.0</td>\n      <td>5.0</td>\n      <td>Food &amp; Consumer Goods</td>\n      <td>NaN</td>\n      <td>Male</td>\n      <td>40-50</td>\n      <td>I'm from New York State</td>\n      <td>White</td>\n      <td>Frustrated</td>\n    </tr>\n    <tr>\n      <th>3</th>\n      <td>US</td>\n      <td>Work</td>\n      <td>NaN</td>\n      <td>NaN</td>\n      <td>NaN</td>\n      <td>NaN</td>\n      <td>NaN</td>\n      <td>Alone</td>\n      <td>NaN</td>\n      <td>NaN</td>\n      <td>...</td>\n      <td>5.0</td>\n      <td>5.0</td>\n      <td>6.0</td>\n      <td>Food &amp; Consumer Goods</td>\n      <td>NaN</td>\n      <td>Male</td>\n      <td>30-40</td>\n      <td>I'm from New York State</td>\n      <td>White</td>\n      <td>Optimistic</td>\n    </tr>\n    <tr>\n      <th>4</th>\n      <td>US</td>\n      <td>Work</td>\n      <td>Family</td>\n      <td>NaN</td>\n      <td>NaN</td>\n      <td>NaN</td>\n      <td>NaN</td>\n      <td>NaN</td>\n      <td>1.0</td>\n      <td>NaN</td>\n      <td>...</td>\n      <td>4.0</td>\n      <td>5.0</td>\n      <td>8.0</td>\n      <td>Information Technology</td>\n      <td>NaN</td>\n      <td>Male</td>\n      <td>30-40</td>\n      <td>I'm from somewhere else in the US</td>\n      <td>White</td>\n      <td>Anxious</td>\n    </tr>\n    <tr>\n      <th>...</th>\n      <td>...</td>\n      <td>...</td>\n      <td>...</td>\n      <td>...</td>\n      <td>...</td>\n      <td>...</td>\n      <td>...</td>\n      <td>...</td>\n      <td>...</td>\n      <td>...</td>\n      <td>...</td>\n      <td>...</td>\n      <td>...</td>\n      <td>...</td>\n      <td>...</td>\n      <td>...</td>\n      <td>...</td>\n      <td>...</td>\n      <td>...</td>\n      <td>...</td>\n      <td>...</td>\n    </tr>\n    <tr>\n      <th>2987</th>\n      <td>IT</td>\n      <td>Study</td>\n      <td>Family</td>\n      <td>NaN</td>\n      <td>NaN</td>\n      <td>NaN</td>\n      <td>NaN</td>\n      <td>NaN</td>\n      <td>1.0</td>\n      <td>NaN</td>\n      <td>...</td>\n      <td>2.0</td>\n      <td>4.0</td>\n      <td>5.0</td>\n      <td>NaN</td>\n      <td>Architettura e design</td>\n      <td>Female</td>\n      <td>NaN</td>\n      <td>I am Italian</td>\n      <td>White</td>\n      <td>NaN</td>\n    </tr>\n    <tr>\n      <th>2988</th>\n      <td>IT</td>\n      <td>Study</td>\n      <td>Family</td>\n      <td>NaN</td>\n      <td>NaN</td>\n      <td>NaN</td>\n      <td>NaN</td>\n      <td>NaN</td>\n      <td>2.0</td>\n      <td>NaN</td>\n      <td>...</td>\n      <td>5.0</td>\n      <td>5.0</td>\n      <td>9.0</td>\n      <td>NaN</td>\n      <td>Commercio, management, turismo e servizi</td>\n      <td>Male</td>\n      <td>NaN</td>\n      <td>I am Italian</td>\n      <td>White</td>\n      <td>NaN</td>\n    </tr>\n    <tr>\n      <th>2989</th>\n      <td>IT</td>\n      <td>Work</td>\n      <td>Family</td>\n      <td>NaN</td>\n      <td>NaN</td>\n      <td>NaN</td>\n      <td>NaN</td>\n      <td>NaN</td>\n      <td>3.0</td>\n      <td>NaN</td>\n      <td>...</td>\n      <td>1.0</td>\n      <td>5.0</td>\n      <td>4.0</td>\n      <td>Other / I prefer not to answer</td>\n      <td>NaN</td>\n      <td>Female</td>\n      <td>Other</td>\n      <td>I am Italian</td>\n      <td>White</td>\n      <td>NaN</td>\n    </tr>\n    <tr>\n      <th>2990</th>\n      <td>IT</td>\n      <td>Work</td>\n      <td>Family</td>\n      <td>NaN</td>\n      <td>NaN</td>\n      <td>NaN</td>\n      <td>NaN</td>\n      <td>NaN</td>\n      <td>3.0</td>\n      <td>NaN</td>\n      <td>...</td>\n      <td>3.0</td>\n      <td>5.0</td>\n      <td>9.0</td>\n      <td>Information Technology</td>\n      <td>NaN</td>\n      <td>Male</td>\n      <td>NaN</td>\n      <td>I am Italian</td>\n      <td>White</td>\n      <td>NaN</td>\n    </tr>\n    <tr>\n      <th>2991</th>\n      <td>IT</td>\n      <td>Study</td>\n      <td>Family</td>\n      <td>NaN</td>\n      <td>NaN</td>\n      <td>NaN</td>\n      <td>NaN</td>\n      <td>NaN</td>\n      <td>3.0</td>\n      <td>NaN</td>\n      <td>...</td>\n      <td>3.0</td>\n      <td>5.0</td>\n      <td>7.0</td>\n      <td>NaN</td>\n      <td>Scienze umanistiche</td>\n      <td>Male</td>\n      <td>NaN</td>\n      <td>I come from abroad</td>\n      <td>White</td>\n      <td>NaN</td>\n    </tr>\n  </tbody>\n</table>\n<p>2992 rows × 123 columns</p>\n</div>"
     },
     "execution_count": 4,
     "metadata": {},
     "output_type": "execute_result"
    }
   ],
   "source": [
    "df"
   ]
  },
  {
   "cell_type": "code",
   "execution_count": 5,
   "metadata": {
    "pycharm": {
     "name": "#%%\n"
    }
   },
   "outputs": [],
   "source": [
    "# 丢弃无关变量\n",
    "df = df.drop(['How many people did you live with in that period?','Bored',\n",
    " 'Stressed',\n",
    " 'Free',\n",
    " 'Optimistic',\n",
    " 'Peaceful',\n",
    " 'Lonely',\n",
    " 'Disappointed',\n",
    " 'Frustrated',\n",
    " 'Threatened','Before covid',\n",
    " 'During covid','Bored.1',\n",
    " 'Stressed.1',\n",
    " 'Excited',\n",
    " 'Hopeful',\n",
    " 'Peaceful.1',\n",
    " 'Lonely.1',\n",
    " 'Vulnerable',\n",
    " 'Disappointed.1',\n",
    " 'Anxious','No',\n",
    " 'Yes, in 2020',\n",
    " 'Yes, in 2021',\n",
    " 'Yes, in 2022','Stressed.2',\n",
    " 'Optimistic.2',\n",
    " 'Peaceful.2',\n",
    " 'Lonely.2',\n",
    " 'Vulnerable.2',\n",
    " 'Disappointed.3',\n",
    " 'Frustrated.1',\n",
    " 'Anxious.2',\n",
    " 'Threatened.2','1 before COVID-19?',\n",
    " '2 before COVID-19?',\n",
    " '3 before COVID-19?',\n",
    " '4 before COVID-19?',\n",
    " '5 before COVID-19?',\n",
    " '6 before COVID-19?',\n",
    " '1 during COVID-19?',\n",
    " '2 during COVID-19?',\n",
    " '3 during COVID-19?',\n",
    " '4 during COVID-19?',\n",
    " '5 during COVID-19?',\n",
    " '6 during COVID-19?','Bored.2',\n",
    " 'Stressed.3',\n",
    " 'Free.2',\n",
    " 'Proud.1',\n",
    " 'Optimistic.3',\n",
    " 'Lonely.3',\n",
    " 'Disappointed.4',\n",
    " 'Frustrated.2',\n",
    " 'Anxious.3','Did your studying situation changed during COVID-19?',\n",
    " 'Change in personal interests',\n",
    " 'Change in learning modes',\n",
    " 'Family / Friends / Advisors Influence',\n",
    " 'Low grades',\n",
    " 'Better Career Prospects',\n",
    " 'Economic Difficulties',\n",
    " 'Started working',\n",
    " 'Other / I prefer not to answer','How would you describe your job?',\n",
    " 'In your daily job, do you work directly with the public?',\n",
    " 'Free.3',\n",
    " 'Aggresive',\n",
    " 'Frustrated.3',\n",
    " 'Disappointed.5',\n",
    " 'Vulnerable.3',\n",
    " 'Lonely.4',\n",
    " 'Optimistic.4',\n",
    " 'enthusiastic',\n",
    " 'stressed','Did your professional situation change during COVID-19?',\n",
    " 'Why did your professional situation change?','Meeting a small group of friends (2-6 people)',\n",
    " 'Going to public places (cinemas, theaters, restaurants, gym)',\n",
    " 'Taking public transportation',\n",
    " 'Going to a crowded event outdoors',\n",
    " 'Meeting a small group of friends (2-6 people).1',\n",
    " 'Going to public places (cinemas, theaters, restaurants, gym).1',\n",
    " 'Taking public transportation.1',\n",
    " 'Going to a crowded event outdoors.1',\n",
    " 'Do you feel you have gone back to your “normality”?'], axis=1)"
   ]
  },
  {
   "cell_type": "code",
   "execution_count": 6,
   "metadata": {
    "pycharm": {
     "name": "#%%\n"
    }
   },
   "outputs": [
    {
     "data": {
      "text/plain": "    # At the beginning of the pandemic did you work or study?  Family Friends  \\\n0  US                                               Both       Family     NaN   \n1  US                                               Work          NaN     NaN   \n2  US                                               Work          NaN     NaN   \n3  US                                               Work          NaN     NaN   \n4  US                                               Work       Family     NaN   \n\n   Pets  Roommates People I didn't know  Alone  Mask mandate  Lockdown  ...  \\\n0   NaN        NaN                  NaN    NaN           5.0       4.0  ...   \n1   NaN  Roommates                  NaN    NaN           5.0       4.0  ...   \n2  Pets        NaN                  NaN    NaN           5.0       NaN  ...   \n3   NaN        NaN                  NaN  Alone           5.0       NaN  ...   \n4   NaN        NaN                  NaN    NaN           4.0       4.0  ...   \n\n   Anxious.1  Free.1  Main Income  What is your job sector?  \\\n0    Anxious     NaN          Job                       NaN   \n1        NaN     NaN          NaN    Information Technology   \n2        NaN     NaN          NaN     Food & Consumer Goods   \n3        NaN     NaN          NaN     Food & Consumer Goods   \n4    Anxious     NaN          NaN    Information Technology   \n\n          What is your major?  What is your gender?  How old are you now?  \\\n0  Engineering and Technology                Female                 24-30   \n1                         NaN                  Male                 30-40   \n2                         NaN                  Male                 40-50   \n3                         NaN                  Male                 30-40   \n4                         NaN                  Male                 30-40   \n\n              Where did you grow up?  What is your ethnicity?  \\\n0  I'm from somewhere else in the US                    Asian   \n1                 I come from abroad                    Asian   \n2            I'm from New York State                    White   \n3            I'm from New York State                    White   \n4  I'm from somewhere else in the US                    White   \n\n   Which of these emotions do you associate with COVID-19?  \n0                                         Frustrated        \n1                                            Distant        \n2                                         Frustrated        \n3                                         Optimistic        \n4                                            Anxious        \n\n[5 rows x 37 columns]",
      "text/html": "<div>\n<style scoped>\n    .dataframe tbody tr th:only-of-type {\n        vertical-align: middle;\n    }\n\n    .dataframe tbody tr th {\n        vertical-align: top;\n    }\n\n    .dataframe thead th {\n        text-align: right;\n    }\n</style>\n<table border=\"1\" class=\"dataframe\">\n  <thead>\n    <tr style=\"text-align: right;\">\n      <th></th>\n      <th>#</th>\n      <th>At the beginning of the pandemic did you work or study?</th>\n      <th>Family</th>\n      <th>Friends</th>\n      <th>Pets</th>\n      <th>Roommates</th>\n      <th>People I didn't know</th>\n      <th>Alone</th>\n      <th>Mask mandate</th>\n      <th>Lockdown</th>\n      <th>...</th>\n      <th>Anxious.1</th>\n      <th>Free.1</th>\n      <th>Main Income</th>\n      <th>What is your job sector?</th>\n      <th>What is your major?</th>\n      <th>What is your gender?</th>\n      <th>How old are you now?</th>\n      <th>Where did you grow up?</th>\n      <th>What is your ethnicity?</th>\n      <th>Which of these emotions do you associate with COVID-19?</th>\n    </tr>\n  </thead>\n  <tbody>\n    <tr>\n      <th>0</th>\n      <td>US</td>\n      <td>Both</td>\n      <td>Family</td>\n      <td>NaN</td>\n      <td>NaN</td>\n      <td>NaN</td>\n      <td>NaN</td>\n      <td>NaN</td>\n      <td>5.0</td>\n      <td>4.0</td>\n      <td>...</td>\n      <td>Anxious</td>\n      <td>NaN</td>\n      <td>Job</td>\n      <td>NaN</td>\n      <td>Engineering and Technology</td>\n      <td>Female</td>\n      <td>24-30</td>\n      <td>I'm from somewhere else in the US</td>\n      <td>Asian</td>\n      <td>Frustrated</td>\n    </tr>\n    <tr>\n      <th>1</th>\n      <td>US</td>\n      <td>Work</td>\n      <td>NaN</td>\n      <td>NaN</td>\n      <td>NaN</td>\n      <td>Roommates</td>\n      <td>NaN</td>\n      <td>NaN</td>\n      <td>5.0</td>\n      <td>4.0</td>\n      <td>...</td>\n      <td>NaN</td>\n      <td>NaN</td>\n      <td>NaN</td>\n      <td>Information Technology</td>\n      <td>NaN</td>\n      <td>Male</td>\n      <td>30-40</td>\n      <td>I come from abroad</td>\n      <td>Asian</td>\n      <td>Distant</td>\n    </tr>\n    <tr>\n      <th>2</th>\n      <td>US</td>\n      <td>Work</td>\n      <td>NaN</td>\n      <td>NaN</td>\n      <td>Pets</td>\n      <td>NaN</td>\n      <td>NaN</td>\n      <td>NaN</td>\n      <td>5.0</td>\n      <td>NaN</td>\n      <td>...</td>\n      <td>NaN</td>\n      <td>NaN</td>\n      <td>NaN</td>\n      <td>Food &amp; Consumer Goods</td>\n      <td>NaN</td>\n      <td>Male</td>\n      <td>40-50</td>\n      <td>I'm from New York State</td>\n      <td>White</td>\n      <td>Frustrated</td>\n    </tr>\n    <tr>\n      <th>3</th>\n      <td>US</td>\n      <td>Work</td>\n      <td>NaN</td>\n      <td>NaN</td>\n      <td>NaN</td>\n      <td>NaN</td>\n      <td>NaN</td>\n      <td>Alone</td>\n      <td>5.0</td>\n      <td>NaN</td>\n      <td>...</td>\n      <td>NaN</td>\n      <td>NaN</td>\n      <td>NaN</td>\n      <td>Food &amp; Consumer Goods</td>\n      <td>NaN</td>\n      <td>Male</td>\n      <td>30-40</td>\n      <td>I'm from New York State</td>\n      <td>White</td>\n      <td>Optimistic</td>\n    </tr>\n    <tr>\n      <th>4</th>\n      <td>US</td>\n      <td>Work</td>\n      <td>Family</td>\n      <td>NaN</td>\n      <td>NaN</td>\n      <td>NaN</td>\n      <td>NaN</td>\n      <td>NaN</td>\n      <td>4.0</td>\n      <td>4.0</td>\n      <td>...</td>\n      <td>Anxious</td>\n      <td>NaN</td>\n      <td>NaN</td>\n      <td>Information Technology</td>\n      <td>NaN</td>\n      <td>Male</td>\n      <td>30-40</td>\n      <td>I'm from somewhere else in the US</td>\n      <td>White</td>\n      <td>Anxious</td>\n    </tr>\n  </tbody>\n</table>\n<p>5 rows × 37 columns</p>\n</div>"
     },
     "execution_count": 6,
     "metadata": {},
     "output_type": "execute_result"
    }
   ],
   "source": [
    "df.head()"
   ]
  },
  {
   "cell_type": "code",
   "execution_count": 7,
   "metadata": {
    "pycharm": {
     "name": "#%%\n"
    }
   },
   "outputs": [],
   "source": [
    "# 多列数据合并\n",
    "df['During lockdown (March-April 2020), who did you live with?'] = df[df.columns[2:8]].apply(lambda x: ','.join(x.dropna()),axis=1)\n",
    "df['How did you feel about people not willing to get vaccinated?'] = df[df.columns[20:29]].apply(lambda x: ','.join(x.dropna()),axis=1)"
   ]
  },
  {
   "cell_type": "code",
   "execution_count": 8,
   "metadata": {
    "pycharm": {
     "name": "#%%\n"
    }
   },
   "outputs": [
    {
     "data": {
      "text/plain": "       # At the beginning of the pandemic did you work or study?  \\\n0     US                                               Both        \n1     US                                               Work        \n2     US                                               Work        \n3     US                                               Work        \n4     US                                               Work        \n...   ..                                                ...        \n2987  IT                                              Study        \n2988  IT                                              Study        \n2989  IT                                               Work        \n2990  IT                                               Work        \n2991  IT                                              Study        \n\n      Mask mandate  Lockdown  Closing Workplace/University  Vaccination pass  \\\n0              5.0       4.0                           5.0               5.0   \n1              5.0       4.0                           5.0               5.0   \n2              5.0       NaN                           2.0               4.0   \n3              5.0       NaN                           3.0               4.0   \n4              4.0       4.0                           4.0               4.0   \n...            ...       ...                           ...               ...   \n2987           5.0       5.0                           5.0               3.0   \n2988           4.0       4.0                           4.0               4.0   \n2989           5.0       5.0                           5.0               5.0   \n2990           4.0       4.0                           4.0               3.0   \n2991           5.0       4.0                           3.0               5.0   \n\n      Social distancing  Quarantine  Mask mandate.1  Lockdown.1  ...  \\\n0                   4.0         4.0             5.0         2.0  ...   \n1                   5.0         5.0             5.0         2.0  ...   \n2                   4.0         4.0             4.0         NaN  ...   \n3                   4.0         4.0             5.0         NaN  ...   \n4                   4.0         4.0             3.0         3.0  ...   \n...                 ...         ...             ...         ...  ...   \n2987                4.0         5.0             5.0         4.0  ...   \n2988                4.0         4.0             4.0         2.0  ...   \n2989                3.0         5.0             3.0         1.0  ...   \n2990                4.0         4.0             3.0         3.0  ...   \n2991                5.0         5.0             4.0         3.0  ...   \n\n      Main Income        What is your job sector?  \\\n0             Job                             NaN   \n1             NaN          Information Technology   \n2             NaN           Food & Consumer Goods   \n3             NaN           Food & Consumer Goods   \n4             NaN          Information Technology   \n...           ...                             ...   \n2987       Family                             NaN   \n2988       Family                             NaN   \n2989          NaN  Other / I prefer not to answer   \n2990          NaN          Information Technology   \n2991       Family                             NaN   \n\n                           What is your major?  What is your gender?  \\\n0                   Engineering and Technology                Female   \n1                                          NaN                  Male   \n2                                          NaN                  Male   \n3                                          NaN                  Male   \n4                                          NaN                  Male   \n...                                        ...                   ...   \n2987                     Architettura e design                Female   \n2988  Commercio, management, turismo e servizi                  Male   \n2989                                       NaN                Female   \n2990                                       NaN                  Male   \n2991                       Scienze umanistiche                  Male   \n\n     How old are you now?             Where did you grow up?  \\\n0                   24-30  I'm from somewhere else in the US   \n1                   30-40                 I come from abroad   \n2                   40-50            I'm from New York State   \n3                   30-40            I'm from New York State   \n4                   30-40  I'm from somewhere else in the US   \n...                   ...                                ...   \n2987                  NaN                       I am Italian   \n2988                  NaN                       I am Italian   \n2989                Other                       I am Italian   \n2990                  NaN                       I am Italian   \n2991                  NaN                 I come from abroad   \n\n     What is your ethnicity?  \\\n0                      Asian   \n1                      Asian   \n2                      White   \n3                      White   \n4                      White   \n...                      ...   \n2987                   White   \n2988                   White   \n2989                   White   \n2990                   White   \n2991                   White   \n\n     Which of these emotions do you associate with COVID-19?  \\\n0                                            Frustrated        \n1                                               Distant        \n2                                            Frustrated        \n3                                            Optimistic        \n4                                               Anxious        \n...                                                 ...        \n2987                                                NaN        \n2988                                                NaN        \n2989                                                NaN        \n2990                                                NaN        \n2991                                                NaN        \n\n     During lockdown (March-April 2020), who did you live with?  \\\n0                                                Family           \n1                                             Roommates           \n2                                                  Pets           \n3                                                 Alone           \n4                                                Family           \n...                                                 ...           \n2987                                             Family           \n2988                                             Family           \n2989                                             Family           \n2990                                             Family           \n2991                                             Family           \n\n     How did you feel about people not willing to get vaccinated?  \n0                       Disappointed,Threatened,Anxious            \n1                                  Disappointed,Hostile            \n2                                           Indifferent            \n3                                            Threatened            \n4                       Disappointed,Threatened,Anxious            \n...                                                 ...            \n2987                               Disappointed,Hostile            \n2988                            Disappointed,Threatened            \n2989                    Disappointed,Hostile,Threatened            \n2990                                       Disappointed            \n2991                                            Hostile            \n\n[2992 rows x 24 columns]",
      "text/html": "<div>\n<style scoped>\n    .dataframe tbody tr th:only-of-type {\n        vertical-align: middle;\n    }\n\n    .dataframe tbody tr th {\n        vertical-align: top;\n    }\n\n    .dataframe thead th {\n        text-align: right;\n    }\n</style>\n<table border=\"1\" class=\"dataframe\">\n  <thead>\n    <tr style=\"text-align: right;\">\n      <th></th>\n      <th>#</th>\n      <th>At the beginning of the pandemic did you work or study?</th>\n      <th>Mask mandate</th>\n      <th>Lockdown</th>\n      <th>Closing Workplace/University</th>\n      <th>Vaccination pass</th>\n      <th>Social distancing</th>\n      <th>Quarantine</th>\n      <th>Mask mandate.1</th>\n      <th>Lockdown.1</th>\n      <th>...</th>\n      <th>Main Income</th>\n      <th>What is your job sector?</th>\n      <th>What is your major?</th>\n      <th>What is your gender?</th>\n      <th>How old are you now?</th>\n      <th>Where did you grow up?</th>\n      <th>What is your ethnicity?</th>\n      <th>Which of these emotions do you associate with COVID-19?</th>\n      <th>During lockdown (March-April 2020), who did you live with?</th>\n      <th>How did you feel about people not willing to get vaccinated?</th>\n    </tr>\n  </thead>\n  <tbody>\n    <tr>\n      <th>0</th>\n      <td>US</td>\n      <td>Both</td>\n      <td>5.0</td>\n      <td>4.0</td>\n      <td>5.0</td>\n      <td>5.0</td>\n      <td>4.0</td>\n      <td>4.0</td>\n      <td>5.0</td>\n      <td>2.0</td>\n      <td>...</td>\n      <td>Job</td>\n      <td>NaN</td>\n      <td>Engineering and Technology</td>\n      <td>Female</td>\n      <td>24-30</td>\n      <td>I'm from somewhere else in the US</td>\n      <td>Asian</td>\n      <td>Frustrated</td>\n      <td>Family</td>\n      <td>Disappointed,Threatened,Anxious</td>\n    </tr>\n    <tr>\n      <th>1</th>\n      <td>US</td>\n      <td>Work</td>\n      <td>5.0</td>\n      <td>4.0</td>\n      <td>5.0</td>\n      <td>5.0</td>\n      <td>5.0</td>\n      <td>5.0</td>\n      <td>5.0</td>\n      <td>2.0</td>\n      <td>...</td>\n      <td>NaN</td>\n      <td>Information Technology</td>\n      <td>NaN</td>\n      <td>Male</td>\n      <td>30-40</td>\n      <td>I come from abroad</td>\n      <td>Asian</td>\n      <td>Distant</td>\n      <td>Roommates</td>\n      <td>Disappointed,Hostile</td>\n    </tr>\n    <tr>\n      <th>2</th>\n      <td>US</td>\n      <td>Work</td>\n      <td>5.0</td>\n      <td>NaN</td>\n      <td>2.0</td>\n      <td>4.0</td>\n      <td>4.0</td>\n      <td>4.0</td>\n      <td>4.0</td>\n      <td>NaN</td>\n      <td>...</td>\n      <td>NaN</td>\n      <td>Food &amp; Consumer Goods</td>\n      <td>NaN</td>\n      <td>Male</td>\n      <td>40-50</td>\n      <td>I'm from New York State</td>\n      <td>White</td>\n      <td>Frustrated</td>\n      <td>Pets</td>\n      <td>Indifferent</td>\n    </tr>\n    <tr>\n      <th>3</th>\n      <td>US</td>\n      <td>Work</td>\n      <td>5.0</td>\n      <td>NaN</td>\n      <td>3.0</td>\n      <td>4.0</td>\n      <td>4.0</td>\n      <td>4.0</td>\n      <td>5.0</td>\n      <td>NaN</td>\n      <td>...</td>\n      <td>NaN</td>\n      <td>Food &amp; Consumer Goods</td>\n      <td>NaN</td>\n      <td>Male</td>\n      <td>30-40</td>\n      <td>I'm from New York State</td>\n      <td>White</td>\n      <td>Optimistic</td>\n      <td>Alone</td>\n      <td>Threatened</td>\n    </tr>\n    <tr>\n      <th>4</th>\n      <td>US</td>\n      <td>Work</td>\n      <td>4.0</td>\n      <td>4.0</td>\n      <td>4.0</td>\n      <td>4.0</td>\n      <td>4.0</td>\n      <td>4.0</td>\n      <td>3.0</td>\n      <td>3.0</td>\n      <td>...</td>\n      <td>NaN</td>\n      <td>Information Technology</td>\n      <td>NaN</td>\n      <td>Male</td>\n      <td>30-40</td>\n      <td>I'm from somewhere else in the US</td>\n      <td>White</td>\n      <td>Anxious</td>\n      <td>Family</td>\n      <td>Disappointed,Threatened,Anxious</td>\n    </tr>\n    <tr>\n      <th>...</th>\n      <td>...</td>\n      <td>...</td>\n      <td>...</td>\n      <td>...</td>\n      <td>...</td>\n      <td>...</td>\n      <td>...</td>\n      <td>...</td>\n      <td>...</td>\n      <td>...</td>\n      <td>...</td>\n      <td>...</td>\n      <td>...</td>\n      <td>...</td>\n      <td>...</td>\n      <td>...</td>\n      <td>...</td>\n      <td>...</td>\n      <td>...</td>\n      <td>...</td>\n      <td>...</td>\n    </tr>\n    <tr>\n      <th>2987</th>\n      <td>IT</td>\n      <td>Study</td>\n      <td>5.0</td>\n      <td>5.0</td>\n      <td>5.0</td>\n      <td>3.0</td>\n      <td>4.0</td>\n      <td>5.0</td>\n      <td>5.0</td>\n      <td>4.0</td>\n      <td>...</td>\n      <td>Family</td>\n      <td>NaN</td>\n      <td>Architettura e design</td>\n      <td>Female</td>\n      <td>NaN</td>\n      <td>I am Italian</td>\n      <td>White</td>\n      <td>NaN</td>\n      <td>Family</td>\n      <td>Disappointed,Hostile</td>\n    </tr>\n    <tr>\n      <th>2988</th>\n      <td>IT</td>\n      <td>Study</td>\n      <td>4.0</td>\n      <td>4.0</td>\n      <td>4.0</td>\n      <td>4.0</td>\n      <td>4.0</td>\n      <td>4.0</td>\n      <td>4.0</td>\n      <td>2.0</td>\n      <td>...</td>\n      <td>Family</td>\n      <td>NaN</td>\n      <td>Commercio, management, turismo e servizi</td>\n      <td>Male</td>\n      <td>NaN</td>\n      <td>I am Italian</td>\n      <td>White</td>\n      <td>NaN</td>\n      <td>Family</td>\n      <td>Disappointed,Threatened</td>\n    </tr>\n    <tr>\n      <th>2989</th>\n      <td>IT</td>\n      <td>Work</td>\n      <td>5.0</td>\n      <td>5.0</td>\n      <td>5.0</td>\n      <td>5.0</td>\n      <td>3.0</td>\n      <td>5.0</td>\n      <td>3.0</td>\n      <td>1.0</td>\n      <td>...</td>\n      <td>NaN</td>\n      <td>Other / I prefer not to answer</td>\n      <td>NaN</td>\n      <td>Female</td>\n      <td>Other</td>\n      <td>I am Italian</td>\n      <td>White</td>\n      <td>NaN</td>\n      <td>Family</td>\n      <td>Disappointed,Hostile,Threatened</td>\n    </tr>\n    <tr>\n      <th>2990</th>\n      <td>IT</td>\n      <td>Work</td>\n      <td>4.0</td>\n      <td>4.0</td>\n      <td>4.0</td>\n      <td>3.0</td>\n      <td>4.0</td>\n      <td>4.0</td>\n      <td>3.0</td>\n      <td>3.0</td>\n      <td>...</td>\n      <td>NaN</td>\n      <td>Information Technology</td>\n      <td>NaN</td>\n      <td>Male</td>\n      <td>NaN</td>\n      <td>I am Italian</td>\n      <td>White</td>\n      <td>NaN</td>\n      <td>Family</td>\n      <td>Disappointed</td>\n    </tr>\n    <tr>\n      <th>2991</th>\n      <td>IT</td>\n      <td>Study</td>\n      <td>5.0</td>\n      <td>4.0</td>\n      <td>3.0</td>\n      <td>5.0</td>\n      <td>5.0</td>\n      <td>5.0</td>\n      <td>4.0</td>\n      <td>3.0</td>\n      <td>...</td>\n      <td>Family</td>\n      <td>NaN</td>\n      <td>Scienze umanistiche</td>\n      <td>Male</td>\n      <td>NaN</td>\n      <td>I come from abroad</td>\n      <td>White</td>\n      <td>NaN</td>\n      <td>Family</td>\n      <td>Hostile</td>\n    </tr>\n  </tbody>\n</table>\n<p>2992 rows × 24 columns</p>\n</div>"
     },
     "execution_count": 8,
     "metadata": {},
     "output_type": "execute_result"
    }
   ],
   "source": [
    "# 将上一步合并的源数据列丢弃\n",
    "title = list(df)\n",
    "df = df.drop(labels=title[2:8], axis=1)\n",
    "df = df.drop(labels=title[20:29], axis=1)\n",
    "df"
   ]
  },
  {
   "cell_type": "code",
   "execution_count": 9,
   "metadata": {
    "pycharm": {
     "name": "#%%\n"
    }
   },
   "outputs": [
    {
     "data": {
      "text/plain": "What is your job sector?                                        88.24%\nWhich of these emotions do you associate with COVID-19?         79.88%\nMain Income                                                     13.57%\nWhat is your major?                                             11.80%\nHow old are you now?                                             2.27%\nQuarantine                                                       2.04%\nSocial distancing                                                1.94%\nQuarantine.1                                                     1.67%\nSocial distancing.1                                              1.54%\nVaccination pass                                                 1.54%\nVaccination pass.1                                               1.50%\nClosing Workplace/University.1                                   0.84%\nMask mandate.1                                                   0.64%\nLockdown.1                                                       0.53%\nMask mandate                                                     0.53%\nClosing Workplace/University                                     0.50%\nLockdown                                                         0.47%\nWhat is your gender?                                             0.03%\nWhere did you grow up?                                           0.03%\nWhat is your ethnicity?                                          0.03%\nDuring lockdown (March-April 2020), who did you live with?       0.00%\n#                                                                0.00%\nAt the beginning of the pandemic did you work or study?          0.00%\nHow did you feel about people not willing to get vaccinated?     0.00%\ndtype: object"
     },
     "execution_count": 9,
     "metadata": {},
     "output_type": "execute_result"
    }
   ],
   "source": [
    "# 查看空值情况\n",
    "((df.isnull().sum())/df.shape[0]).sort_values(ascending=False).map(lambda x:\"{:.2%}\".format(x))"
   ]
  },
  {
   "cell_type": "code",
   "execution_count": 10,
   "metadata": {
    "pycharm": {
     "name": "#%%\n"
    }
   },
   "outputs": [
    {
     "data": {
      "text/plain": "       # At the beginning of the pandemic did you work or study?  \\\n0     US                                               Both        \n1     US                                               Work        \n2     US                                               Work        \n3     US                                               Work        \n4     US                                               Work        \n...   ..                                                ...        \n2987  IT                                              Study        \n2988  IT                                              Study        \n2989  IT                                               Work        \n2990  IT                                               Work        \n2991  IT                                              Study        \n\n      Mask mandate  Lockdown  Closing Workplace/University  Vaccination pass  \\\n0              5.0       4.0                           5.0               5.0   \n1              5.0       4.0                           5.0               5.0   \n2              5.0       NaN                           2.0               4.0   \n3              5.0       NaN                           3.0               4.0   \n4              4.0       4.0                           4.0               4.0   \n...            ...       ...                           ...               ...   \n2987           5.0       5.0                           5.0               3.0   \n2988           4.0       4.0                           4.0               4.0   \n2989           5.0       5.0                           5.0               5.0   \n2990           4.0       4.0                           4.0               3.0   \n2991           5.0       4.0                           3.0               5.0   \n\n      Social distancing  Quarantine  Mask mandate.1  Lockdown.1  ...  \\\n0                   4.0         4.0             5.0         2.0  ...   \n1                   5.0         5.0             5.0         2.0  ...   \n2                   4.0         4.0             4.0         NaN  ...   \n3                   4.0         4.0             5.0         NaN  ...   \n4                   4.0         4.0             3.0         3.0  ...   \n...                 ...         ...             ...         ...  ...   \n2987                4.0         5.0             5.0         4.0  ...   \n2988                4.0         4.0             4.0         2.0  ...   \n2989                3.0         5.0             3.0         1.0  ...   \n2990                4.0         4.0             3.0         3.0  ...   \n2991                5.0         5.0             4.0         3.0  ...   \n\n      Vaccination pass.1  Social distancing.1  Quarantine.1  Main Income  \\\n0                    5.0                  2.0           3.0          Job   \n1                    5.0                  5.0           3.0          NaN   \n2                    4.0                  4.0           2.0          NaN   \n3                    4.0                  4.0           3.0          NaN   \n4                    4.0                  3.0           3.0          NaN   \n...                  ...                  ...           ...          ...   \n2987                 4.0                  3.0           4.0       Family   \n2988                 5.0                  3.0           4.0       Family   \n2989                 5.0                  1.0           3.0          NaN   \n2990                 5.0                  4.0           5.0          NaN   \n2991                 4.0                  3.0           4.0       Family   \n\n     What is your gender? How old are you now?  \\\n0                  Female                24-30   \n1                    Male                30-40   \n2                    Male                40-50   \n3                    Male                30-40   \n4                    Male                30-40   \n...                   ...                  ...   \n2987               Female                  NaN   \n2988                 Male                  NaN   \n2989               Female                Other   \n2990                 Male                  NaN   \n2991                 Male                  NaN   \n\n                 Where did you grow up? What is your ethnicity?  \\\n0     I'm from somewhere else in the US                   Asian   \n1                    I come from abroad                   Asian   \n2               I'm from New York State                   White   \n3               I'm from New York State                   White   \n4     I'm from somewhere else in the US                   White   \n...                                 ...                     ...   \n2987                       I am Italian                   White   \n2988                       I am Italian                   White   \n2989                       I am Italian                   White   \n2990                       I am Italian                   White   \n2991                 I come from abroad                   White   \n\n     During lockdown (March-April 2020), who did you live with?  \\\n0                                                Family           \n1                                             Roommates           \n2                                                  Pets           \n3                                                 Alone           \n4                                                Family           \n...                                                 ...           \n2987                                             Family           \n2988                                             Family           \n2989                                             Family           \n2990                                             Family           \n2991                                             Family           \n\n     How did you feel about people not willing to get vaccinated?  \n0                       Disappointed,Threatened,Anxious            \n1                                  Disappointed,Hostile            \n2                                           Indifferent            \n3                                            Threatened            \n4                       Disappointed,Threatened,Anxious            \n...                                                 ...            \n2987                               Disappointed,Hostile            \n2988                            Disappointed,Threatened            \n2989                    Disappointed,Hostile,Threatened            \n2990                                       Disappointed            \n2991                                            Hostile            \n\n[2992 rows x 21 columns]",
      "text/html": "<div>\n<style scoped>\n    .dataframe tbody tr th:only-of-type {\n        vertical-align: middle;\n    }\n\n    .dataframe tbody tr th {\n        vertical-align: top;\n    }\n\n    .dataframe thead th {\n        text-align: right;\n    }\n</style>\n<table border=\"1\" class=\"dataframe\">\n  <thead>\n    <tr style=\"text-align: right;\">\n      <th></th>\n      <th>#</th>\n      <th>At the beginning of the pandemic did you work or study?</th>\n      <th>Mask mandate</th>\n      <th>Lockdown</th>\n      <th>Closing Workplace/University</th>\n      <th>Vaccination pass</th>\n      <th>Social distancing</th>\n      <th>Quarantine</th>\n      <th>Mask mandate.1</th>\n      <th>Lockdown.1</th>\n      <th>...</th>\n      <th>Vaccination pass.1</th>\n      <th>Social distancing.1</th>\n      <th>Quarantine.1</th>\n      <th>Main Income</th>\n      <th>What is your gender?</th>\n      <th>How old are you now?</th>\n      <th>Where did you grow up?</th>\n      <th>What is your ethnicity?</th>\n      <th>During lockdown (March-April 2020), who did you live with?</th>\n      <th>How did you feel about people not willing to get vaccinated?</th>\n    </tr>\n  </thead>\n  <tbody>\n    <tr>\n      <th>0</th>\n      <td>US</td>\n      <td>Both</td>\n      <td>5.0</td>\n      <td>4.0</td>\n      <td>5.0</td>\n      <td>5.0</td>\n      <td>4.0</td>\n      <td>4.0</td>\n      <td>5.0</td>\n      <td>2.0</td>\n      <td>...</td>\n      <td>5.0</td>\n      <td>2.0</td>\n      <td>3.0</td>\n      <td>Job</td>\n      <td>Female</td>\n      <td>24-30</td>\n      <td>I'm from somewhere else in the US</td>\n      <td>Asian</td>\n      <td>Family</td>\n      <td>Disappointed,Threatened,Anxious</td>\n    </tr>\n    <tr>\n      <th>1</th>\n      <td>US</td>\n      <td>Work</td>\n      <td>5.0</td>\n      <td>4.0</td>\n      <td>5.0</td>\n      <td>5.0</td>\n      <td>5.0</td>\n      <td>5.0</td>\n      <td>5.0</td>\n      <td>2.0</td>\n      <td>...</td>\n      <td>5.0</td>\n      <td>5.0</td>\n      <td>3.0</td>\n      <td>NaN</td>\n      <td>Male</td>\n      <td>30-40</td>\n      <td>I come from abroad</td>\n      <td>Asian</td>\n      <td>Roommates</td>\n      <td>Disappointed,Hostile</td>\n    </tr>\n    <tr>\n      <th>2</th>\n      <td>US</td>\n      <td>Work</td>\n      <td>5.0</td>\n      <td>NaN</td>\n      <td>2.0</td>\n      <td>4.0</td>\n      <td>4.0</td>\n      <td>4.0</td>\n      <td>4.0</td>\n      <td>NaN</td>\n      <td>...</td>\n      <td>4.0</td>\n      <td>4.0</td>\n      <td>2.0</td>\n      <td>NaN</td>\n      <td>Male</td>\n      <td>40-50</td>\n      <td>I'm from New York State</td>\n      <td>White</td>\n      <td>Pets</td>\n      <td>Indifferent</td>\n    </tr>\n    <tr>\n      <th>3</th>\n      <td>US</td>\n      <td>Work</td>\n      <td>5.0</td>\n      <td>NaN</td>\n      <td>3.0</td>\n      <td>4.0</td>\n      <td>4.0</td>\n      <td>4.0</td>\n      <td>5.0</td>\n      <td>NaN</td>\n      <td>...</td>\n      <td>4.0</td>\n      <td>4.0</td>\n      <td>3.0</td>\n      <td>NaN</td>\n      <td>Male</td>\n      <td>30-40</td>\n      <td>I'm from New York State</td>\n      <td>White</td>\n      <td>Alone</td>\n      <td>Threatened</td>\n    </tr>\n    <tr>\n      <th>4</th>\n      <td>US</td>\n      <td>Work</td>\n      <td>4.0</td>\n      <td>4.0</td>\n      <td>4.0</td>\n      <td>4.0</td>\n      <td>4.0</td>\n      <td>4.0</td>\n      <td>3.0</td>\n      <td>3.0</td>\n      <td>...</td>\n      <td>4.0</td>\n      <td>3.0</td>\n      <td>3.0</td>\n      <td>NaN</td>\n      <td>Male</td>\n      <td>30-40</td>\n      <td>I'm from somewhere else in the US</td>\n      <td>White</td>\n      <td>Family</td>\n      <td>Disappointed,Threatened,Anxious</td>\n    </tr>\n    <tr>\n      <th>...</th>\n      <td>...</td>\n      <td>...</td>\n      <td>...</td>\n      <td>...</td>\n      <td>...</td>\n      <td>...</td>\n      <td>...</td>\n      <td>...</td>\n      <td>...</td>\n      <td>...</td>\n      <td>...</td>\n      <td>...</td>\n      <td>...</td>\n      <td>...</td>\n      <td>...</td>\n      <td>...</td>\n      <td>...</td>\n      <td>...</td>\n      <td>...</td>\n      <td>...</td>\n      <td>...</td>\n    </tr>\n    <tr>\n      <th>2987</th>\n      <td>IT</td>\n      <td>Study</td>\n      <td>5.0</td>\n      <td>5.0</td>\n      <td>5.0</td>\n      <td>3.0</td>\n      <td>4.0</td>\n      <td>5.0</td>\n      <td>5.0</td>\n      <td>4.0</td>\n      <td>...</td>\n      <td>4.0</td>\n      <td>3.0</td>\n      <td>4.0</td>\n      <td>Family</td>\n      <td>Female</td>\n      <td>NaN</td>\n      <td>I am Italian</td>\n      <td>White</td>\n      <td>Family</td>\n      <td>Disappointed,Hostile</td>\n    </tr>\n    <tr>\n      <th>2988</th>\n      <td>IT</td>\n      <td>Study</td>\n      <td>4.0</td>\n      <td>4.0</td>\n      <td>4.0</td>\n      <td>4.0</td>\n      <td>4.0</td>\n      <td>4.0</td>\n      <td>4.0</td>\n      <td>2.0</td>\n      <td>...</td>\n      <td>5.0</td>\n      <td>3.0</td>\n      <td>4.0</td>\n      <td>Family</td>\n      <td>Male</td>\n      <td>NaN</td>\n      <td>I am Italian</td>\n      <td>White</td>\n      <td>Family</td>\n      <td>Disappointed,Threatened</td>\n    </tr>\n    <tr>\n      <th>2989</th>\n      <td>IT</td>\n      <td>Work</td>\n      <td>5.0</td>\n      <td>5.0</td>\n      <td>5.0</td>\n      <td>5.0</td>\n      <td>3.0</td>\n      <td>5.0</td>\n      <td>3.0</td>\n      <td>1.0</td>\n      <td>...</td>\n      <td>5.0</td>\n      <td>1.0</td>\n      <td>3.0</td>\n      <td>NaN</td>\n      <td>Female</td>\n      <td>Other</td>\n      <td>I am Italian</td>\n      <td>White</td>\n      <td>Family</td>\n      <td>Disappointed,Hostile,Threatened</td>\n    </tr>\n    <tr>\n      <th>2990</th>\n      <td>IT</td>\n      <td>Work</td>\n      <td>4.0</td>\n      <td>4.0</td>\n      <td>4.0</td>\n      <td>3.0</td>\n      <td>4.0</td>\n      <td>4.0</td>\n      <td>3.0</td>\n      <td>3.0</td>\n      <td>...</td>\n      <td>5.0</td>\n      <td>4.0</td>\n      <td>5.0</td>\n      <td>NaN</td>\n      <td>Male</td>\n      <td>NaN</td>\n      <td>I am Italian</td>\n      <td>White</td>\n      <td>Family</td>\n      <td>Disappointed</td>\n    </tr>\n    <tr>\n      <th>2991</th>\n      <td>IT</td>\n      <td>Study</td>\n      <td>5.0</td>\n      <td>4.0</td>\n      <td>3.0</td>\n      <td>5.0</td>\n      <td>5.0</td>\n      <td>5.0</td>\n      <td>4.0</td>\n      <td>3.0</td>\n      <td>...</td>\n      <td>4.0</td>\n      <td>3.0</td>\n      <td>4.0</td>\n      <td>Family</td>\n      <td>Male</td>\n      <td>NaN</td>\n      <td>I come from abroad</td>\n      <td>White</td>\n      <td>Family</td>\n      <td>Hostile</td>\n    </tr>\n  </tbody>\n</table>\n<p>2992 rows × 21 columns</p>\n</div>"
     },
     "execution_count": 10,
     "metadata": {},
     "output_type": "execute_result"
    }
   ],
   "source": [
    "# 丢弃空值比例较大列\n",
    "df = df.drop(['What is your job sector?', 'Which of these emotions do you associate with COVID-19?','What is your major?'], axis=1)\n",
    "df"
   ]
  },
  {
   "cell_type": "code",
   "execution_count": 11,
   "metadata": {
    "pycharm": {
     "name": "#%%\n"
    }
   },
   "outputs": [],
   "source": [
    "# 插值填充空值\n",
    "df = df.interpolate(method='linear')\n",
    "# df = df.fillna(method='pad')"
   ]
  },
  {
   "cell_type": "code",
   "execution_count": 12,
   "metadata": {
    "pycharm": {
     "name": "#%%\n"
    }
   },
   "outputs": [
    {
     "data": {
      "text/plain": "Main Income                                                     13.57%\nHow old are you now?                                             2.27%\nWhat is your ethnicity?                                          0.03%\nWhere did you grow up?                                           0.03%\nWhat is your gender?                                             0.03%\n#                                                                0.00%\nVaccination pass.1                                               0.00%\nDuring lockdown (March-April 2020), who did you live with?       0.00%\nQuarantine.1                                                     0.00%\nSocial distancing.1                                              0.00%\nClosing Workplace/University.1                                   0.00%\nAt the beginning of the pandemic did you work or study?          0.00%\nLockdown.1                                                       0.00%\nMask mandate.1                                                   0.00%\nQuarantine                                                       0.00%\nSocial distancing                                                0.00%\nVaccination pass                                                 0.00%\nClosing Workplace/University                                     0.00%\nLockdown                                                         0.00%\nMask mandate                                                     0.00%\nHow did you feel about people not willing to get vaccinated?     0.00%\ndtype: object"
     },
     "execution_count": 12,
     "metadata": {},
     "output_type": "execute_result"
    }
   ],
   "source": [
    "((df.isnull().sum())/df.shape[0]).sort_values(ascending=False).map(lambda x:\"{:.2%}\".format(x))"
   ]
  },
  {
   "cell_type": "code",
   "execution_count": 13,
   "metadata": {
    "pycharm": {
     "name": "#%%\n"
    }
   },
   "outputs": [],
   "source": [
    "# 插值填充空值 \n",
    "df['What is your gender?'] = df['What is your gender?'].fillna(method='pad')\n",
    "df['Where did you grow up?'] = df['Where did you grow up?'].fillna(method='pad')\n",
    "df['What is your ethnicity?'] = df['What is your ethnicity?'].fillna(method='pad')\n",
    "df['How old are you now?'] = df['How old are you now?'].fillna(method='pad')"
   ]
  },
  {
   "cell_type": "code",
   "execution_count": 14,
   "metadata": {
    "pycharm": {
     "name": "#%%\n"
    }
   },
   "outputs": [
    {
     "data": {
      "text/plain": "Main Income                                                     13.57%\n#                                                                0.00%\nVaccination pass.1                                               0.00%\nDuring lockdown (March-April 2020), who did you live with?       0.00%\nWhat is your ethnicity?                                          0.00%\nWhere did you grow up?                                           0.00%\nHow old are you now?                                             0.00%\nWhat is your gender?                                             0.00%\nQuarantine.1                                                     0.00%\nSocial distancing.1                                              0.00%\nClosing Workplace/University.1                                   0.00%\nAt the beginning of the pandemic did you work or study?          0.00%\nLockdown.1                                                       0.00%\nMask mandate.1                                                   0.00%\nQuarantine                                                       0.00%\nSocial distancing                                                0.00%\nVaccination pass                                                 0.00%\nClosing Workplace/University                                     0.00%\nLockdown                                                         0.00%\nMask mandate                                                     0.00%\nHow did you feel about people not willing to get vaccinated?     0.00%\ndtype: object"
     },
     "execution_count": 14,
     "metadata": {},
     "output_type": "execute_result"
    }
   ],
   "source": [
    "((df.isnull().sum())/df.shape[0]).sort_values(ascending=False).map(lambda x:\"{:.2%}\".format(x))"
   ]
  },
  {
   "cell_type": "code",
   "execution_count": 15,
   "metadata": {
    "pycharm": {
     "name": "#%%\n"
    }
   },
   "outputs": [
    {
     "data": {
      "text/plain": "       # At the beginning of the pandemic did you work or study?  \\\n0     US                                               Both        \n1     US                                               Work        \n2     US                                               Work        \n3     US                                               Work        \n4     US                                               Work        \n...   ..                                                ...        \n2987  IT                                              Study        \n2988  IT                                              Study        \n2989  IT                                               Work        \n2990  IT                                               Work        \n2991  IT                                              Study        \n\n      Mask mandate  Lockdown  Closing Workplace/University  Vaccination pass  \\\n0              5.0       4.0                           5.0               5.0   \n1              5.0       4.0                           5.0               5.0   \n2              5.0       4.0                           2.0               4.0   \n3              5.0       4.0                           3.0               4.0   \n4              4.0       4.0                           4.0               4.0   \n...            ...       ...                           ...               ...   \n2987           5.0       5.0                           5.0               3.0   \n2988           4.0       4.0                           4.0               4.0   \n2989           5.0       5.0                           5.0               5.0   \n2990           4.0       4.0                           4.0               3.0   \n2991           5.0       4.0                           3.0               5.0   \n\n      Social distancing  Quarantine  Mask mandate.1  Lockdown.1  ...  \\\n0                   4.0         4.0             5.0    2.000000  ...   \n1                   5.0         5.0             5.0    2.000000  ...   \n2                   4.0         4.0             4.0    2.333333  ...   \n3                   4.0         4.0             5.0    2.666667  ...   \n4                   4.0         4.0             3.0    3.000000  ...   \n...                 ...         ...             ...         ...  ...   \n2987                4.0         5.0             5.0    4.000000  ...   \n2988                4.0         4.0             4.0    2.000000  ...   \n2989                3.0         5.0             3.0    1.000000  ...   \n2990                4.0         4.0             3.0    3.000000  ...   \n2991                5.0         5.0             4.0    3.000000  ...   \n\n      Vaccination pass.1  Social distancing.1  Quarantine.1  Main Income  \\\n0                    5.0                  2.0           3.0          Job   \n1                    5.0                  5.0           3.0          NaN   \n2                    4.0                  4.0           2.0          NaN   \n3                    4.0                  4.0           3.0          NaN   \n4                    4.0                  3.0           3.0          NaN   \n...                  ...                  ...           ...          ...   \n2987                 4.0                  3.0           4.0       Family   \n2988                 5.0                  3.0           4.0       Family   \n2989                 5.0                  1.0           3.0          NaN   \n2990                 5.0                  4.0           5.0          NaN   \n2991                 4.0                  3.0           4.0       Family   \n\n     What is your gender? How old are you now?  \\\n0                  Female                24-30   \n1                    Male                30-40   \n2                    Male                40-50   \n3                    Male                30-40   \n4                    Male                30-40   \n...                   ...                  ...   \n2987               Female                Other   \n2988                 Male                Other   \n2989               Female                Other   \n2990                 Male                Other   \n2991                 Male                Other   \n\n                 Where did you grow up? What is your ethnicity?  \\\n0     I'm from somewhere else in the US                   Asian   \n1                    I come from abroad                   Asian   \n2               I'm from New York State                   White   \n3               I'm from New York State                   White   \n4     I'm from somewhere else in the US                   White   \n...                                 ...                     ...   \n2987                       I am Italian                   White   \n2988                       I am Italian                   White   \n2989                       I am Italian                   White   \n2990                       I am Italian                   White   \n2991                 I come from abroad                   White   \n\n     During lockdown (March-April 2020), who did you live with?  \\\n0                                                Family           \n1                                             Roommates           \n2                                                  Pets           \n3                                                 Alone           \n4                                                Family           \n...                                                 ...           \n2987                                             Family           \n2988                                             Family           \n2989                                             Family           \n2990                                             Family           \n2991                                             Family           \n\n     How did you feel about people not willing to get vaccinated?  \n0                       Disappointed,Threatened,Anxious            \n1                                  Disappointed,Hostile            \n2                                           Indifferent            \n3                                            Threatened            \n4                       Disappointed,Threatened,Anxious            \n...                                                 ...            \n2987                               Disappointed,Hostile            \n2988                            Disappointed,Threatened            \n2989                    Disappointed,Hostile,Threatened            \n2990                                       Disappointed            \n2991                                            Hostile            \n\n[2992 rows x 21 columns]",
      "text/html": "<div>\n<style scoped>\n    .dataframe tbody tr th:only-of-type {\n        vertical-align: middle;\n    }\n\n    .dataframe tbody tr th {\n        vertical-align: top;\n    }\n\n    .dataframe thead th {\n        text-align: right;\n    }\n</style>\n<table border=\"1\" class=\"dataframe\">\n  <thead>\n    <tr style=\"text-align: right;\">\n      <th></th>\n      <th>#</th>\n      <th>At the beginning of the pandemic did you work or study?</th>\n      <th>Mask mandate</th>\n      <th>Lockdown</th>\n      <th>Closing Workplace/University</th>\n      <th>Vaccination pass</th>\n      <th>Social distancing</th>\n      <th>Quarantine</th>\n      <th>Mask mandate.1</th>\n      <th>Lockdown.1</th>\n      <th>...</th>\n      <th>Vaccination pass.1</th>\n      <th>Social distancing.1</th>\n      <th>Quarantine.1</th>\n      <th>Main Income</th>\n      <th>What is your gender?</th>\n      <th>How old are you now?</th>\n      <th>Where did you grow up?</th>\n      <th>What is your ethnicity?</th>\n      <th>During lockdown (March-April 2020), who did you live with?</th>\n      <th>How did you feel about people not willing to get vaccinated?</th>\n    </tr>\n  </thead>\n  <tbody>\n    <tr>\n      <th>0</th>\n      <td>US</td>\n      <td>Both</td>\n      <td>5.0</td>\n      <td>4.0</td>\n      <td>5.0</td>\n      <td>5.0</td>\n      <td>4.0</td>\n      <td>4.0</td>\n      <td>5.0</td>\n      <td>2.000000</td>\n      <td>...</td>\n      <td>5.0</td>\n      <td>2.0</td>\n      <td>3.0</td>\n      <td>Job</td>\n      <td>Female</td>\n      <td>24-30</td>\n      <td>I'm from somewhere else in the US</td>\n      <td>Asian</td>\n      <td>Family</td>\n      <td>Disappointed,Threatened,Anxious</td>\n    </tr>\n    <tr>\n      <th>1</th>\n      <td>US</td>\n      <td>Work</td>\n      <td>5.0</td>\n      <td>4.0</td>\n      <td>5.0</td>\n      <td>5.0</td>\n      <td>5.0</td>\n      <td>5.0</td>\n      <td>5.0</td>\n      <td>2.000000</td>\n      <td>...</td>\n      <td>5.0</td>\n      <td>5.0</td>\n      <td>3.0</td>\n      <td>NaN</td>\n      <td>Male</td>\n      <td>30-40</td>\n      <td>I come from abroad</td>\n      <td>Asian</td>\n      <td>Roommates</td>\n      <td>Disappointed,Hostile</td>\n    </tr>\n    <tr>\n      <th>2</th>\n      <td>US</td>\n      <td>Work</td>\n      <td>5.0</td>\n      <td>4.0</td>\n      <td>2.0</td>\n      <td>4.0</td>\n      <td>4.0</td>\n      <td>4.0</td>\n      <td>4.0</td>\n      <td>2.333333</td>\n      <td>...</td>\n      <td>4.0</td>\n      <td>4.0</td>\n      <td>2.0</td>\n      <td>NaN</td>\n      <td>Male</td>\n      <td>40-50</td>\n      <td>I'm from New York State</td>\n      <td>White</td>\n      <td>Pets</td>\n      <td>Indifferent</td>\n    </tr>\n    <tr>\n      <th>3</th>\n      <td>US</td>\n      <td>Work</td>\n      <td>5.0</td>\n      <td>4.0</td>\n      <td>3.0</td>\n      <td>4.0</td>\n      <td>4.0</td>\n      <td>4.0</td>\n      <td>5.0</td>\n      <td>2.666667</td>\n      <td>...</td>\n      <td>4.0</td>\n      <td>4.0</td>\n      <td>3.0</td>\n      <td>NaN</td>\n      <td>Male</td>\n      <td>30-40</td>\n      <td>I'm from New York State</td>\n      <td>White</td>\n      <td>Alone</td>\n      <td>Threatened</td>\n    </tr>\n    <tr>\n      <th>4</th>\n      <td>US</td>\n      <td>Work</td>\n      <td>4.0</td>\n      <td>4.0</td>\n      <td>4.0</td>\n      <td>4.0</td>\n      <td>4.0</td>\n      <td>4.0</td>\n      <td>3.0</td>\n      <td>3.000000</td>\n      <td>...</td>\n      <td>4.0</td>\n      <td>3.0</td>\n      <td>3.0</td>\n      <td>NaN</td>\n      <td>Male</td>\n      <td>30-40</td>\n      <td>I'm from somewhere else in the US</td>\n      <td>White</td>\n      <td>Family</td>\n      <td>Disappointed,Threatened,Anxious</td>\n    </tr>\n    <tr>\n      <th>...</th>\n      <td>...</td>\n      <td>...</td>\n      <td>...</td>\n      <td>...</td>\n      <td>...</td>\n      <td>...</td>\n      <td>...</td>\n      <td>...</td>\n      <td>...</td>\n      <td>...</td>\n      <td>...</td>\n      <td>...</td>\n      <td>...</td>\n      <td>...</td>\n      <td>...</td>\n      <td>...</td>\n      <td>...</td>\n      <td>...</td>\n      <td>...</td>\n      <td>...</td>\n      <td>...</td>\n    </tr>\n    <tr>\n      <th>2987</th>\n      <td>IT</td>\n      <td>Study</td>\n      <td>5.0</td>\n      <td>5.0</td>\n      <td>5.0</td>\n      <td>3.0</td>\n      <td>4.0</td>\n      <td>5.0</td>\n      <td>5.0</td>\n      <td>4.000000</td>\n      <td>...</td>\n      <td>4.0</td>\n      <td>3.0</td>\n      <td>4.0</td>\n      <td>Family</td>\n      <td>Female</td>\n      <td>Other</td>\n      <td>I am Italian</td>\n      <td>White</td>\n      <td>Family</td>\n      <td>Disappointed,Hostile</td>\n    </tr>\n    <tr>\n      <th>2988</th>\n      <td>IT</td>\n      <td>Study</td>\n      <td>4.0</td>\n      <td>4.0</td>\n      <td>4.0</td>\n      <td>4.0</td>\n      <td>4.0</td>\n      <td>4.0</td>\n      <td>4.0</td>\n      <td>2.000000</td>\n      <td>...</td>\n      <td>5.0</td>\n      <td>3.0</td>\n      <td>4.0</td>\n      <td>Family</td>\n      <td>Male</td>\n      <td>Other</td>\n      <td>I am Italian</td>\n      <td>White</td>\n      <td>Family</td>\n      <td>Disappointed,Threatened</td>\n    </tr>\n    <tr>\n      <th>2989</th>\n      <td>IT</td>\n      <td>Work</td>\n      <td>5.0</td>\n      <td>5.0</td>\n      <td>5.0</td>\n      <td>5.0</td>\n      <td>3.0</td>\n      <td>5.0</td>\n      <td>3.0</td>\n      <td>1.000000</td>\n      <td>...</td>\n      <td>5.0</td>\n      <td>1.0</td>\n      <td>3.0</td>\n      <td>NaN</td>\n      <td>Female</td>\n      <td>Other</td>\n      <td>I am Italian</td>\n      <td>White</td>\n      <td>Family</td>\n      <td>Disappointed,Hostile,Threatened</td>\n    </tr>\n    <tr>\n      <th>2990</th>\n      <td>IT</td>\n      <td>Work</td>\n      <td>4.0</td>\n      <td>4.0</td>\n      <td>4.0</td>\n      <td>3.0</td>\n      <td>4.0</td>\n      <td>4.0</td>\n      <td>3.0</td>\n      <td>3.000000</td>\n      <td>...</td>\n      <td>5.0</td>\n      <td>4.0</td>\n      <td>5.0</td>\n      <td>NaN</td>\n      <td>Male</td>\n      <td>Other</td>\n      <td>I am Italian</td>\n      <td>White</td>\n      <td>Family</td>\n      <td>Disappointed</td>\n    </tr>\n    <tr>\n      <th>2991</th>\n      <td>IT</td>\n      <td>Study</td>\n      <td>5.0</td>\n      <td>4.0</td>\n      <td>3.0</td>\n      <td>5.0</td>\n      <td>5.0</td>\n      <td>5.0</td>\n      <td>4.0</td>\n      <td>3.000000</td>\n      <td>...</td>\n      <td>4.0</td>\n      <td>3.0</td>\n      <td>4.0</td>\n      <td>Family</td>\n      <td>Male</td>\n      <td>Other</td>\n      <td>I come from abroad</td>\n      <td>White</td>\n      <td>Family</td>\n      <td>Hostile</td>\n    </tr>\n  </tbody>\n</table>\n<p>2992 rows × 21 columns</p>\n</div>"
     },
     "execution_count": 15,
     "metadata": {},
     "output_type": "execute_result"
    }
   ],
   "source": [
    "df"
   ]
  },
  {
   "cell_type": "code",
   "execution_count": 16,
   "metadata": {
    "pycharm": {
     "name": "#%%\n"
    }
   },
   "outputs": [],
   "source": [
    "# 查看数据类型\n",
    "title = list(df)[2:14]\n",
    "for i in title:\n",
    "    df[i] = df[i].astype(int)"
   ]
  },
  {
   "cell_type": "code",
   "execution_count": 17,
   "metadata": {
    "pycharm": {
     "name": "#%%\n"
    }
   },
   "outputs": [],
   "source": [
    "# 4a4b每个选项生成一个dataform\n",
    "df1 = df.loc[lambda x:x['Mask mandate']!=x['Mask mandate.1']]\n",
    "df2 = df.loc[lambda x:x['Lockdown']!=x['Lockdown.1']]\n",
    "df3 = df.loc[lambda x:x['Closing Workplace/University']!=x['Closing Workplace/University.1']]\n",
    "df4 = df.loc[lambda x:x['Vaccination pass']!=x['Vaccination pass.1']]\n",
    "df5 = df.loc[lambda x:x['Social distancing']!=x['Social distancing.1']]\n",
    "df6 = df.loc[lambda x:x['Quarantine']!=x['Quarantine.1']]"
   ]
  },
  {
   "cell_type": "code",
   "execution_count": 18,
   "outputs": [],
   "source": [
    "# 生成多柱图函数\n",
    "def pics2(data, label, title, tabel):\n",
    "\tdef create_multi_bars(labels, datas, titles,tabels, tick_step=1, group_gap=0.2, bar_gap=0):\n",
    "\t\tticks = np.arange(len(labels)) * tick_step\n",
    "\t\tgroup_num = len(datas)\n",
    "\t\tgroup_width = tick_step - group_gap\n",
    "\t\tbar_span = group_width / group_num\n",
    "\t\tbar_width = bar_span - bar_gap\n",
    "\t\tbaseline_x = ticks - (group_width - bar_span) / 2\n",
    "\t\tplt.figure(dpi=300,figsize=(32,8))\n",
    "\t\tfor index, y in enumerate(datas):\n",
    "\t\t\tplt.bar(baseline_x + index*bar_span, y, bar_width,label=titles[index])\n",
    "\t\tplt.legend()\n",
    "\t\tplt.ylabel('People')\n",
    "\t\tplt.title(tabels)\n",
    "\t\tplt.xticks(ticks, labels)\n",
    "\t\tplt.show()\n",
    "\tcreate_multi_bars(label, data, title, tabel)"
   ],
   "metadata": {
    "collapsed": false,
    "pycharm": {
     "name": "#%%\n"
    }
   }
  },
  {
   "cell_type": "code",
   "execution_count": 19,
   "outputs": [
    {
     "data": {
      "text/plain": "((1301, 21), (1996, 21), (1928, 21), (783, 21), (1330, 21), (1255, 21))"
     },
     "execution_count": 19,
     "metadata": {},
     "output_type": "execute_result"
    }
   ],
   "source": [
    "df1.shape, df2.shape, df3.shape, df4.shape, df5.shape, df6.shape"
   ],
   "metadata": {
    "collapsed": false,
    "pycharm": {
     "name": "#%%\n"
    }
   }
  },
  {
   "cell_type": "code",
   "execution_count": 21,
   "outputs": [
    {
     "data": {
      "text/plain": "['#',\n 'At the beginning of the pandemic did you work or study?',\n 'Main Income',\n 'What is your gender?',\n 'How old are you now?',\n 'Where did you grow up?',\n 'What is your ethnicity?',\n 'During lockdown (March-April 2020), who did you live with?',\n 'How did you feel about people not willing to get vaccinated?']"
     },
     "execution_count": 21,
     "metadata": {},
     "output_type": "execute_result"
    }
   ],
   "source": [
    "# 生成各表标题\n",
    "from collections import OrderedDict\n",
    "\n",
    "d_set = OrderedDict.fromkeys(list(df))\n",
    "for x in title:\n",
    "    d_set.pop(x, None)\n",
    "\n",
    "variable = d_set.keys()\n",
    "variable = list(variable)\n",
    "variable"
   ],
   "metadata": {
    "collapsed": false,
    "pycharm": {
     "name": "#%%\n"
    }
   }
  },
  {
   "cell_type": "code",
   "execution_count": 22,
   "outputs": [
    {
     "name": "stderr",
     "output_type": "stream",
     "text": [
      "D:\\anaconda3\\envs\\Machine learning\\lib\\site-packages\\ipykernel_launcher.py:2: SettingWithCopyWarning: \n",
      "A value is trying to be set on a copy of a slice from a DataFrame.\n",
      "Try using .loc[row_indexer,col_indexer] = value instead\n",
      "\n",
      "See the caveats in the documentation: https://pandas.pydata.org/pandas-docs/stable/user_guide/indexing.html#returning-a-view-versus-a-copy\n",
      "  \n",
      "D:\\anaconda3\\envs\\Machine learning\\lib\\site-packages\\ipykernel_launcher.py:3: SettingWithCopyWarning: \n",
      "A value is trying to be set on a copy of a slice from a DataFrame.\n",
      "Try using .loc[row_indexer,col_indexer] = value instead\n",
      "\n",
      "See the caveats in the documentation: https://pandas.pydata.org/pandas-docs/stable/user_guide/indexing.html#returning-a-view-versus-a-copy\n",
      "  This is separate from the ipykernel package so we can avoid doing imports until\n",
      "D:\\anaconda3\\envs\\Machine learning\\lib\\site-packages\\ipykernel_launcher.py:4: SettingWithCopyWarning: \n",
      "A value is trying to be set on a copy of a slice from a DataFrame.\n",
      "Try using .loc[row_indexer,col_indexer] = value instead\n",
      "\n",
      "See the caveats in the documentation: https://pandas.pydata.org/pandas-docs/stable/user_guide/indexing.html#returning-a-view-versus-a-copy\n",
      "  after removing the cwd from sys.path.\n",
      "D:\\anaconda3\\envs\\Machine learning\\lib\\site-packages\\ipykernel_launcher.py:5: SettingWithCopyWarning: \n",
      "A value is trying to be set on a copy of a slice from a DataFrame.\n",
      "Try using .loc[row_indexer,col_indexer] = value instead\n",
      "\n",
      "See the caveats in the documentation: https://pandas.pydata.org/pandas-docs/stable/user_guide/indexing.html#returning-a-view-versus-a-copy\n",
      "  \"\"\"\n",
      "D:\\anaconda3\\envs\\Machine learning\\lib\\site-packages\\ipykernel_launcher.py:6: SettingWithCopyWarning: \n",
      "A value is trying to be set on a copy of a slice from a DataFrame.\n",
      "Try using .loc[row_indexer,col_indexer] = value instead\n",
      "\n",
      "See the caveats in the documentation: https://pandas.pydata.org/pandas-docs/stable/user_guide/indexing.html#returning-a-view-versus-a-copy\n",
      "  \n",
      "D:\\anaconda3\\envs\\Machine learning\\lib\\site-packages\\ipykernel_launcher.py:7: SettingWithCopyWarning: \n",
      "A value is trying to be set on a copy of a slice from a DataFrame.\n",
      "Try using .loc[row_indexer,col_indexer] = value instead\n",
      "\n",
      "See the caveats in the documentation: https://pandas.pydata.org/pandas-docs/stable/user_guide/indexing.html#returning-a-view-versus-a-copy\n",
      "  import sys\n"
     ]
    }
   ],
   "source": [
    "# 每个dataform生成新列  对比两年的选项差异\n",
    "df1['Mask mandate_change'] = df1['Mask mandate.1']-df1['Mask mandate']\n",
    "df2['Lockdown_change'] = df2['Lockdown.1']-df2['Lockdown']\n",
    "df3['Closing Workplace/University_change'] = df3['Closing Workplace/University.1']-df3['Closing Workplace/University']\n",
    "df4['Vaccination pass_change'] = df4['Vaccination pass.1']-df4['Vaccination pass']\n",
    "df5['Social distancing_change'] = df5['Social distancing.1']-df5['Social distancing']\n",
    "df6['Quarantine_change'] = df6['Quarantine.1']-df6['Quarantine']"
   ],
   "metadata": {
    "collapsed": false,
    "pycharm": {
     "name": "#%%\n"
    }
   }
  },
  {
   "cell_type": "code",
   "execution_count": 23,
   "outputs": [
    {
     "data": {
      "text/plain": "((1301, 22), (1996, 22), (1928, 22), (783, 22), (1330, 22), (1255, 22))"
     },
     "execution_count": 23,
     "metadata": {},
     "output_type": "execute_result"
    }
   ],
   "source": [
    "df1.shape, df2.shape, df3.shape, df4.shape, df5.shape, df6.shape"
   ],
   "metadata": {
    "collapsed": false,
    "pycharm": {
     "name": "#%%\n"
    }
   }
  },
  {
   "cell_type": "code",
   "execution_count": 24,
   "outputs": [
    {
     "data": {
      "text/plain": "Study      1047\nWork        188\nBoth         55\nNeither      11\nName: At the beginning of the pandemic did you work or study?, dtype: int64"
     },
     "execution_count": 24,
     "metadata": {},
     "output_type": "execute_result"
    }
   ],
   "source": [
    "# 查看该列不重复变量值\n",
    "df1['At the beginning of the pandemic did you work or study?'].value_counts()"
   ],
   "metadata": {
    "collapsed": false,
    "pycharm": {
     "name": "#%%\n"
    }
   }
  },
  {
   "cell_type": "code",
   "execution_count": 25,
   "metadata": {
    "pycharm": {
     "name": "#%%\n"
    }
   },
   "outputs": [
    {
     "data": {
      "text/plain": "-1    794\n-2    250\n 1    126\n-3     68\n 2     40\n-4     16\n 3      7\nName: Mask mandate_change, dtype: int64"
     },
     "execution_count": 25,
     "metadata": {},
     "output_type": "execute_result"
    }
   ],
   "source": [
    "df1['Mask mandate_change'].value_counts()"
   ]
  },
  {
   "cell_type": "code",
   "execution_count": 26,
   "metadata": {
    "pycharm": {
     "name": "#%%\n"
    }
   },
   "outputs": [
    {
     "name": "stdout",
     "output_type": "stream",
     "text": [
      "['Study', 'Work', 'Both', 'Neither']\n",
      "[688, 63, 35, 8]\n"
     ]
    }
   ],
   "source": [
    "a = df1[df1['Mask mandate_change'].isin([-1])]['At the beginning of the pandemic did you work or study?'].value_counts()\n",
    "print(list(a.keys()))\n",
    "print(list(a))"
   ]
  },
  {
   "cell_type": "code",
   "execution_count": null,
   "metadata": {
    "pycharm": {
     "name": "#%%\n"
    }
   },
   "outputs": [],
   "source": [
    "# 下面六个是对每个选项的每个人的每个变量的变化情况然后生成柱状图\n",
    "df1 = df1.fillna('')\n",
    "tmp1 = list(df1['Mask mandate_change'].value_counts().sort_index().keys())\n",
    "for i1 in variable[:-2]:\n",
    "\talist = df1[i1].unique()\n",
    "\talist = sorted(alist)\n",
    "\tares = []\n",
    "\tfor i in tmp1:\n",
    "\t\tdic = {}\n",
    "\t\tres = df1[df1['Mask mandate_change'].isin([i])][i1].value_counts()\n",
    "\t\tl1 = list(res.keys())\n",
    "\t\tl2 = list(res)\n",
    "\t\tfor j in l1:\n",
    "\t\t\tdic[j] = l2[l1.index(j)]\n",
    "\t\tfor j1 in alist:\n",
    "\t\t\tif j1 not in l1:\n",
    "\t\t\t\tdic[j1] = 0\n",
    "\t\tdic=dict(sorted(dic.items(),key=lambda d:d[0]))\n",
    "\t\tares.append(list(dic.values()))\n",
    "\tb2 = list(zip(*ares))\n",
    "\tprint(b2)\n",
    "\tprint(alist)\n",
    "\tpics2(b2, tmp1, alist,i1)"
   ]
  },
  {
   "cell_type": "code",
   "execution_count": null,
   "metadata": {
    "pycharm": {
     "name": "#%%\n"
    }
   },
   "outputs": [],
   "source": [
    "df2 = df2.fillna('')\n",
    "tmp2 = list(df2['Lockdown_change'].value_counts().sort_index().keys())\n",
    "for i2 in variable[:-2]:\n",
    "\talist = df2[i2].unique()\n",
    "\talist = sorted(alist)\n",
    "\tares = []\n",
    "\tfor i in tmp2:\n",
    "\t\tdic = {}\n",
    "\t\tres = df2[df2['Lockdown_change'].isin([i])][i2].value_counts()\n",
    "\t\tl1 = list(res.keys())\n",
    "\t\tl2 = list(res)\n",
    "\t\tfor j in l1:\n",
    "\t\t\tdic[j] = l2[l1.index(j)]\n",
    "\t\tfor j1 in alist:\n",
    "\t\t\tif j1 not in l1:\n",
    "\t\t\t\tdic[j1] = 0\n",
    "\t\tdic=dict(sorted(dic.items(),key=lambda d:d[0]))\n",
    "\t\tares.append(list(dic.values()))\n",
    "\tb2 = list(zip(*ares))\n",
    "\tprint(b2)\n",
    "\tprint(alist)\n",
    "\tpics2(b2, tmp2, alist,i2)"
   ]
  },
  {
   "cell_type": "code",
   "execution_count": null,
   "metadata": {
    "pycharm": {
     "name": "#%%\n"
    }
   },
   "outputs": [],
   "source": [
    "df3 = df3.fillna('')\n",
    "tmp3 = list(df3['Closing Workplace/University_change'].value_counts().sort_index().keys())\n",
    "for i3 in variable[:-2]:\n",
    "\talist = df3[i3].unique()\n",
    "\talist = sorted(alist)\n",
    "\tares = []\n",
    "\tfor i in tmp3:\n",
    "\t\tdic = {}\n",
    "\t\tres = df3[df3['Closing Workplace/University_change'].isin([i])][i3].value_counts()\n",
    "\t\tl1 = list(res.keys())\n",
    "\t\tl2 = list(res)\n",
    "\t\tfor j in l1:\n",
    "\t\t\tdic[j] = l2[l1.index(j)]\n",
    "\t\tfor j1 in alist:\n",
    "\t\t\tif j1 not in l1:\n",
    "\t\t\t\tdic[j1] = 0\n",
    "\t\tdic=dict(sorted(dic.items(),key=lambda d:d[0]))\n",
    "\t\tares.append(list(dic.values()))\n",
    "\tb2 = list(zip(*ares))\n",
    "\tprint(b2)\n",
    "\tprint(alist)\n",
    "\tpics2(b2, tmp3, alist,i3)\n",
    "print(tmp3)"
   ]
  },
  {
   "cell_type": "code",
   "execution_count": null,
   "metadata": {
    "pycharm": {
     "name": "#%%\n"
    }
   },
   "outputs": [],
   "source": [
    "df4 = df4.fillna('')\n",
    "tmp4 = list(df4['Vaccination pass_change'].value_counts().sort_index().keys())\n",
    "for i4 in variable[:-2]:\n",
    "\talist = df4[i4].unique()\n",
    "\talist = sorted(alist)\n",
    "\tares = []\n",
    "\tfor i in tmp4:\n",
    "\t\tdic = {}\n",
    "\t\tres = df4[df4['Vaccination pass_change'].isin([i])][i4].value_counts()\n",
    "\t\tl1 = list(res.keys())\n",
    "\t\tl2 = list(res)\n",
    "\t\tfor j in l1:\n",
    "\t\t\tdic[j] = l2[l1.index(j)]\n",
    "\t\tfor j1 in alist:\n",
    "\t\t\tif j1 not in l1:\n",
    "\t\t\t\tdic[j1] = 0\n",
    "\t\tdic=dict(sorted(dic.items(),key=lambda d:d[0]))\n",
    "\t\tares.append(list(dic.values()))\n",
    "\tb2 = list(zip(*ares))\n",
    "\tprint(b2)\n",
    "\tprint(alist)\n",
    "\tpics2(b2, tmp4, alist,i4)"
   ]
  },
  {
   "cell_type": "code",
   "execution_count": null,
   "metadata": {
    "pycharm": {
     "name": "#%%\n"
    }
   },
   "outputs": [],
   "source": [
    "df5 = df5.fillna('')\n",
    "tmp5 = list(df5['Social distancing_change'].value_counts().sort_index().keys())\n",
    "for i5 in variable[:-2]:\n",
    "\talist = df5[i5].unique()\n",
    "\talist = sorted(alist)\n",
    "\tares = []\n",
    "\tfor i in tmp5:\n",
    "\t\tdic = {}\n",
    "\t\tres = df5[df5['Social distancing_change'].isin([i])][i5].value_counts()\n",
    "\t\tl1 = list(res.keys())\n",
    "\t\tl2 = list(res)\n",
    "\t\tfor j in l1:\n",
    "\t\t\tdic[j] = l2[l1.index(j)]\n",
    "\t\tfor j1 in alist:\n",
    "\t\t\tif j1 not in l1:\n",
    "\t\t\t\tdic[j1] = 0\n",
    "\t\tdic=dict(sorted(dic.items(),key=lambda d:d[0]))\n",
    "\t\tares.append(list(dic.values()))\n",
    "\tb2 = list(zip(*ares))\n",
    "\tprint(b2)\n",
    "\tprint(alist)\n",
    "\tpics2(b2, tmp5, alist,i5)"
   ]
  },
  {
   "cell_type": "code",
   "execution_count": null,
   "metadata": {
    "pycharm": {
     "name": "#%%\n"
    }
   },
   "outputs": [],
   "source": [
    "df6 = df6.fillna('')\n",
    "tmp6 = list(df6['Quarantine_change'].value_counts().sort_index().keys())\n",
    "for i6 in variable[:-2]:\n",
    "\talist = df6[i6].unique()\n",
    "\talist = sorted(alist)\n",
    "\tares = []\n",
    "\tfor i in tmp6:\n",
    "\t\tdic = {}\n",
    "\t\tres = df6[df6['Quarantine_change'].isin([i])][i6].value_counts()\n",
    "\t\tl1 = list(res.keys())\n",
    "\t\tl2 = list(res)\n",
    "\t\tfor j in l1:\n",
    "\t\t\tdic[j] = l2[l1.index(j)]\n",
    "\t\tfor j1 in alist:\n",
    "\t\t\tif j1 not in l1:\n",
    "\t\t\t\tdic[j1] = 0\n",
    "\t\tdic=dict(sorted(dic.items(),key=lambda d:d[0]))\n",
    "\t\tares.append(list(dic.values()))\n",
    "\tb2 = list(zip(*ares))\n",
    "\tprint(b2)\n",
    "\tprint(alist)\n",
    "\tpics2(b2, tmp6, alist,i6)"
   ]
  }
 ],
 "metadata": {
  "kernelspec": {
   "display_name": "Python 3 (ipykernel)",
   "language": "python",
   "name": "python3"
  },
  "language_info": {
   "codemirror_mode": {
    "name": "ipython",
    "version": 3
   },
   "file_extension": ".py",
   "mimetype": "text/x-python",
   "name": "python",
   "nbconvert_exporter": "python",
   "pygments_lexer": "ipython3",
   "version": "3.7.11"
  }
 },
 "nbformat": 4,
 "nbformat_minor": 1
}